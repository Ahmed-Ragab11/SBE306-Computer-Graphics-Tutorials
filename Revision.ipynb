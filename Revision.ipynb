{
 "cells": [
  {
   "cell_type": "markdown",
   "metadata": {},
   "source": [
    "# Revision Section"
   ]
  },
  {
   "cell_type": "markdown",
   "metadata": {},
   "source": [
    "## Transfomations"
   ]
  },
  {
   "cell_type": "markdown",
   "metadata": {},
   "source": [
    "* **Translation**\n",
    "\n",
    "$$\n",
    "\\begin{bmatrix}\n",
    "x' \\\\ y'  \\\\ 1\n",
    "\\end{bmatrix} = \n",
    "\\begin{bmatrix}\n",
    "1 & 0 & t_x \\\\\n",
    "0 & 1 & t_y \\\\\n",
    "0 & 0 & 1\n",
    "\\end{bmatrix} \\begin{bmatrix}\n",
    "x \\\\ y \\\\ 1\n",
    "\\end{bmatrix} \n",
    "$$\n",
    "\n",
    "\n",
    "* **Scaling**\n",
    "\n",
    "$$\n",
    "\\begin{bmatrix}\n",
    "x' \\\\ y'  \\\\ 1\n",
    "\\end{bmatrix} = \n",
    "\\begin{bmatrix}\n",
    "Sx & 0 & 0 \\\\\n",
    "0 & Sy & 0 \\\\\n",
    "0 & 0 & 1\n",
    "\\end{bmatrix} \\begin{bmatrix}\n",
    "x \\\\ y \\\\ 1\n",
    "\\end{bmatrix} \n",
    "$$\n",
    "\n",
    "\n",
    "**Remember**\n",
    "Fixed point scaling : $$P' = (T^{-1} ST)P$$\n",
    "\n",
    "\n",
    "\n",
    "* **Rotation**\n",
    "$$\n",
    "R_z(\\theta) = \n",
    "\\begin{bmatrix}\n",
    "x' \\\\ y' \\\\ 1\n",
    "\\end{bmatrix} = \n",
    "\\begin{bmatrix}\n",
    "cos(\\theta) & -sin(\\theta) & 0 \\\\\n",
    "sin(\\theta) & cos(\\theta)  & 0 \\\\\n",
    "0 &  0 & 1\n",
    "\\end{bmatrix} \\begin{bmatrix}\n",
    "x \\\\ y \\\\  1\n",
    "\\end{bmatrix} \n",
    "$$\n",
    "\n",
    "**Remember** Fixed point rotaion:\n",
    "$$\n",
    "P' = (T^{-1} RT) P\n",
    "$$"
   ]
  },
  {
   "cell_type": "markdown",
   "metadata": {},
   "source": [
    "**Remembder** : Homogeneous coordinates"
   ]
  },
  {
   "cell_type": "markdown",
   "metadata": {},
   "source": [
    "### Q5 : (Revision Sheet)\n",
    "\n",
    "For each sequence of OpenGL like commands, sketch the resulting figure knowing that the function drawSquare() draws a square at origin with a width of 1.\n",
    "\n",
    "* **a** \n",
    "```c++\n",
    "drawSquare();\n",
    "glTranslate(0,1,0);\n",
    "glScale(0.5,0.5,1);\n",
    "drawSquare();\n",
    "glTranslate(0,1,0);\n",
    "glScale(0.5,0.5,1);\n",
    "drawSquare(); \n",
    "```\n",
    "* **b**\n",
    "```c++\n",
    "drawSquare();\n",
    "glPushMatrix();\n",
    "    glTranslate(0,1,0);\n",
    "    glScale(0.5,0.5,1);\n",
    "    drawSquare();\n",
    "glPopMatrix();\n",
    "glPushMatrix();\n",
    "    glTranslate(0,2,0);\n",
    "    glScale(0.5,0.5,1);\n",
    "    drawSquare();\n",
    "glPopMatrix();\n",
    "```"
   ]
  },
  {
   "cell_type": "markdown",
   "metadata": {},
   "source": [
    "### Solution"
   ]
  },
  {
   "cell_type": "code",
   "execution_count": 1,
   "metadata": {},
   "outputs": [],
   "source": [
    "%matplotlib inline\n",
    "import matplotlib.pyplot as plt"
   ]
  },
  {
   "cell_type": "code",
   "execution_count": 2,
   "metadata": {},
   "outputs": [],
   "source": [
    "from IPython.core.debugger import set_trace\n",
    "def plotShapes(shapes):\n",
    "    for points in shapes:\n",
    "        points = [p[:2] for p in points]\n",
    "        plt.plot(*zip(*(points+points[:1])), marker='o')\n",
    "\n",
    "        automin, automax = plt.xlim()\n",
    "        plt.xlim(automin-0.7, automax+0.7)\n",
    "        automin, automax = plt.ylim()\n",
    "        plt.ylim(automin-0.7, automax+0.7)\n",
    "    plt.show()"
   ]
  },
  {
   "cell_type": "markdown",
   "metadata": {},
   "source": [
    "#### Part a"
   ]
  },
  {
   "cell_type": "markdown",
   "metadata": {},
   "source": [
    "```c++\n",
    "drawSquare();\n",
    "glTranslate(0,1,0);\n",
    "glScale(0.5,0.5,1);\n",
    "drawSquare();\n",
    "glTranslate(0,1,0);\n",
    "glScale(0.5,0.5,1);\n",
    "drawSquare(); \n",
    "```"
   ]
  },
  {
   "cell_type": "markdown",
   "metadata": {},
   "source": [
    "**First Shape**\n",
    "```c++\n",
    "drawSquare(); //First shape CM=I, topStack => I\n",
    "```"
   ]
  },
  {
   "cell_type": "code",
   "execution_count": 3,
   "metadata": {},
   "outputs": [],
   "source": [
    "import numpy as np\n",
    "shape = np.array([[ 0.5,  0.5, -0.5, -0.5],\n",
    "                   [ 0.5, -0.5, -0.5,  0.5],\n",
    "                   [  1 ,   1 ,   1 ,   1 ]])"
   ]
  },
  {
   "cell_type": "code",
   "execution_count": 4,
   "metadata": {},
   "outputs": [],
   "source": [
    "shapes_a = []\n",
    "shape1a = shape\n",
    "shapes_a.append(shape1a.T)"
   ]
  },
  {
   "cell_type": "code",
   "execution_count": 5,
   "metadata": {},
   "outputs": [
    {
     "data": {
      "image/png": "[encoded data removed]",
      "text/plain": [
       "<Figure size 432x288 with 1 Axes>"
      ]
     },
     "metadata": {
      "needs_background": "light"
     },
     "output_type": "display_data"
    }
   ],
   "source": [
    "%matplotlib inline\n",
    "plotShapes(shapes_a)"
   ]
  },
  {
   "cell_type": "markdown",
   "metadata": {},
   "source": [
    "**Second Shape**\n",
    "\n",
    "```c++\n",
    "glTranslate(0,1,0); //T1\n",
    "glScale(0.5,0.5,1); //S1\n",
    "drawSquare(); // CMa1 = T1*S1, topStack = I\n",
    "```"
   ]
  },
  {
   "cell_type": "code",
   "execution_count": 6,
   "metadata": {},
   "outputs": [
    {
     "data": {
      "text/plain": [
       "array([[0.5, 0. , 0. ],\n",
       "       [0. , 0.5, 1. ],\n",
       "       [0. , 0. , 1. ]])"
      ]
     },
     "execution_count": 6,
     "metadata": {},
     "output_type": "execute_result"
    }
   ],
   "source": [
    "T1 = np.array([[1, 0, 0],\n",
    "               [0, 1, 1],\n",
    "               [0, 0, 1]\n",
    "              ])\n",
    "S1 = np.array([[0.5, 0,  0],\n",
    "               [ 0, 0.5, 0],\n",
    "               [ 0,  0,  1]\n",
    "              ])\n",
    "CMa1 = T1.dot(S1)\n",
    "CMa1"
   ]
  },
  {
   "cell_type": "code",
   "execution_count": 7,
   "metadata": {},
   "outputs": [
    {
     "data": {
      "image/png": "[encoded data removed]",
      "text/plain": [
       "<Figure size 432x288 with 1 Axes>"
      ]
     },
     "metadata": {
      "needs_background": "light"
     },
     "output_type": "display_data"
    }
   ],
   "source": [
    "shape2a = CMa1.dot(shape1a)\n",
    "shapes_a.append(shape2a.T)\n",
    "plotShapes(shapes_a)"
   ]
  },
  {
   "cell_type": "markdown",
   "metadata": {},
   "source": [
    "**Third Shape**\n",
    "\n",
    "```c++\n",
    "glTranslate(0,1,0);// T1 \n",
    "glScale(0.5,0.5,1); // S1\n",
    "drawSquare(); // CMa2 = CMa1*T1*S1, topStack = I\n",
    "```"
   ]
  },
  {
   "cell_type": "code",
   "execution_count": 8,
   "metadata": {},
   "outputs": [
    {
     "data": {
      "text/plain": [
       "array([[0.25, 0.  , 0.  ],\n",
       "       [0.  , 0.25, 1.5 ],\n",
       "       [0.  , 0.  , 1.  ]])"
      ]
     },
     "execution_count": 8,
     "metadata": {},
     "output_type": "execute_result"
    }
   ],
   "source": [
    "CMa2 = CMa1.dot(T1).dot(S1)\n",
    "CMa2"
   ]
  },
  {
   "cell_type": "code",
   "execution_count": 9,
   "metadata": {},
   "outputs": [
    {
     "data": {
      "image/png": "[encoded data removed]",
      "text/plain": [
       "<Figure size 432x288 with 1 Axes>"
      ]
     },
     "metadata": {
      "needs_background": "light"
     },
     "output_type": "display_data"
    }
   ],
   "source": [
    "shape3a = CMa2.dot(shape1a)\n",
    "shapes_a.append(shape3a.T)\n",
    "plotShapes(shapes_a)"
   ]
  },
  {
   "cell_type": "markdown",
   "metadata": {},
   "source": [
    "#### Part b\n",
    "**First Shape**\n",
    "```c++\n",
    "drawSquare(); //First shape CM=I, topStack => I\n",
    "```"
   ]
  },
  {
   "cell_type": "code",
   "execution_count": 10,
   "metadata": {},
   "outputs": [
    {
     "data": {
      "image/png": "[encoded data removed]",
      "text/plain": [
       "<Figure size 432x288 with 1 Axes>"
      ]
     },
     "metadata": {
      "needs_background": "light"
     },
     "output_type": "display_data"
    }
   ],
   "source": [
    "shapes = []\n",
    "shapes.append(shape.T)\n",
    "plotShapes(shapes)"
   ]
  },
  {
   "cell_type": "markdown",
   "metadata": {},
   "source": [
    "**Second Shape**\n",
    "```c++\n",
    "glPushMatrix(); // CM = I, topStack = I\n",
    "    glTranslate(0,1,0); //T1\n",
    "    glScale(0.5,0.5,1); //S1\n",
    "    drawSquare(); //Second shape CM = T1*S1, topStack = I\n",
    "```"
   ]
  },
  {
   "cell_type": "code",
   "execution_count": 11,
   "metadata": {},
   "outputs": [
    {
     "name": "stdout",
     "output_type": "stream",
     "text": [
      "[[0.5 0.  0. ]\n",
      " [0.  0.5 1. ]\n",
      " [0.  0.  1. ]]\n"
     ]
    }
   ],
   "source": [
    "T1 = np.array([[1, 0, 0],\n",
    "               [0, 1, 1],\n",
    "               [0, 0, 1]\n",
    "              ])\n",
    "S1 = np.array([[0.5, 0,  0],\n",
    "               [ 0, 0.5, 0],\n",
    "               [ 0,  0,  1]\n",
    "              ])\n",
    "CM1 = T1.dot(S1)\n",
    "print(CM1)"
   ]
  },
  {
   "cell_type": "code",
   "execution_count": 12,
   "metadata": {},
   "outputs": [
    {
     "data": {
      "image/png": "[encoded data removed]",
      "text/plain": [
       "<Figure size 432x288 with 1 Axes>"
      ]
     },
     "metadata": {
      "needs_background": "light"
     },
     "output_type": "display_data"
    }
   ],
   "source": [
    "shape2 = CM1.dot(np.asarray(shape))\n",
    "shapes.append(shape2.T)\n",
    "plotShapes(shapes)"
   ]
  },
  {
   "cell_type": "markdown",
   "metadata": {},
   "source": [
    "**Third Shape**\n",
    "```c++\n",
    "glPopMatrix();  // CM = I, topStack = I\n",
    "glPushMatrix(); // CM = I , topStack = I\n",
    "    glTranslate(0,2,0); //T2\n",
    "    glScale(0.5,0.5,1); //S2 = S1\n",
    "    drawSquare();  // Third Shape CM = T2*S2 topStack = I\n",
    "glPopMatrix(); // CM = I, topStack = I\n",
    "```"
   ]
  },
  {
   "cell_type": "code",
   "execution_count": 13,
   "metadata": {},
   "outputs": [
    {
     "data": {
      "text/plain": [
       "array([[0.5, 0. , 0. ],\n",
       "       [0. , 0.5, 2. ],\n",
       "       [0. , 0. , 1. ]])"
      ]
     },
     "execution_count": 13,
     "metadata": {},
     "output_type": "execute_result"
    }
   ],
   "source": [
    "T2 = np.array([[1, 0, 0],\n",
    "               [0, 1, 2],\n",
    "               [0, 0, 1]])\n",
    "\n",
    "S2 = S1\n",
    "CM2 = T2.dot(S2)\n",
    "CM2"
   ]
  },
  {
   "cell_type": "code",
   "execution_count": 14,
   "metadata": {},
   "outputs": [],
   "source": [
    "shape3 = CM2.dot(np.asarray(shape))\n",
    "shapes.append(shape3.T)"
   ]
  },
  {
   "cell_type": "code",
   "execution_count": 15,
   "metadata": {},
   "outputs": [
    {
     "data": {
      "image/png": "[encoded data removed]",
      "text/plain": [
       "<Figure size 432x288 with 1 Axes>"
      ]
     },
     "metadata": {
      "needs_background": "light"
     },
     "output_type": "display_data"
    }
   ],
   "source": [
    "plotShapes(shapes)"
   ]
  },
  {
   "cell_type": "markdown",
   "metadata": {},
   "source": [
    "### Exam Problem "
   ]
  },
  {
   "cell_type": "markdown",
   "metadata": {},
   "source": [
    "![](images/img1.png)\n",
    "![](images/img2.png)"
   ]
  },
  {
   "cell_type": "markdown",
   "metadata": {},
   "source": [
    "### Solution"
   ]
  },
  {
   "cell_type": "markdown",
   "metadata": {},
   "source": [
    "![](images/img3.png)"
   ]
  },
  {
   "cell_type": "markdown",
   "metadata": {},
   "source": [
    "```c++\n",
    "void drawShape(void) {\n",
    "glBegin(GL_POLYGON);\n",
    "    glVertex3f(0.0,0.0,0.0);\n",
    "    glVertex3f(2.0,0.0,0.0);\n",
    "    glVertex3f(2.0,1.0,0.0);\n",
    "    glVertex3f(1.0,1.0,0.0);\n",
    "    glVertex3f(1.0,3.0,0.0);\n",
    "    glVertex3f(0.0,3.0,0.0);\n",
    "glEnd();\n",
    "}\n",
    "```"
   ]
  },
  {
   "cell_type": "code",
   "execution_count": 16,
   "metadata": {},
   "outputs": [],
   "source": [
    "from IPython.core.debugger import set_trace\n",
    "def plotShapes(shapes):\n",
    "    for points in shapes:\n",
    "        points = [p[:2] for p in points]\n",
    "        plt.plot(*zip(*(points+points[:1])), marker='o')\n",
    "\n",
    "        automin, automax = plt.xlim()\n",
    "        plt.xlim(automin-2, automax+2)\n",
    "        automin, automax = plt.ylim()\n",
    "        plt.ylim(automin-2, automax+2)\n",
    "    plt.show()"
   ]
  },
  {
   "cell_type": "markdown",
   "metadata": {},
   "source": [
    "**Shape 1** \n",
    "```c++\n",
    "glPushMatrix();\n",
    "drawShape(); //shape 1, CM1 = I, topStack = I\n",
    "```"
   ]
  },
  {
   "cell_type": "code",
   "execution_count": 17,
   "metadata": {},
   "outputs": [],
   "source": [
    "shapes = []\n",
    "shape1 = np.array([[0, 2, 2, 1, 1, 0],\n",
    "                   [0, 0, 1, 1, 3, 3],\n",
    "                   [1, 1, 1, 1, 1, 1]])\n",
    "shapes.append(shape1.T)"
   ]
  },
  {
   "cell_type": "code",
   "execution_count": 18,
   "metadata": {},
   "outputs": [
    {
     "data": {
      "image/png": "[encoded data removed]",
      "text/plain": [
       "<Figure size 432x288 with 1 Axes>"
      ]
     },
     "metadata": {
      "needs_background": "light"
     },
     "output_type": "display_data"
    }
   ],
   "source": [
    "%matplotlib inline\n",
    "plotShapes(shapes)"
   ]
  },
  {
   "cell_type": "markdown",
   "metadata": {},
   "source": [
    "**Shape 2** \n",
    "```c++\n",
    "glRotatef(90, 0, 0, 1); // R1\n",
    "glTranslatef(1, 0, 0); // T1\n",
    "drawShape(); // shape 2 => CM2 = R1*T1, topStack = I\n",
    "```"
   ]
  },
  {
   "cell_type": "code",
   "execution_count": 19,
   "metadata": {},
   "outputs": [],
   "source": [
    "R1 = np.array([[ 0, -1, 0],\n",
    "               [ 1, 0, 0],\n",
    "               [ 0, 0, 1]\n",
    "              ])\n",
    "\n",
    "T1 = np.array([[ 1, 0, 1],\n",
    "               [ 0, 1, 0],\n",
    "               [ 0, 0, 1]\n",
    "              ])\n",
    "CM2 = R1.dot(T1)\n",
    "shape2  = CM2.dot(shape1)\n",
    "shapes.append(shape2.T)"
   ]
  },
  {
   "cell_type": "code",
   "execution_count": 20,
   "metadata": {},
   "outputs": [
    {
     "data": {
      "image/png": "[encoded data removed]",
      "text/plain": [
       "<Figure size 432x288 with 1 Axes>"
      ]
     },
     "metadata": {
      "needs_background": "light"
     },
     "output_type": "display_data"
    }
   ],
   "source": [
    "%matplotlib inline\n",
    "plotShapes(shapes)"
   ]
  },
  {
   "cell_type": "markdown",
   "metadata": {},
   "source": [
    "**Shape 3** \n",
    "```c++\n",
    "glRotatef(-90, 0, 0, 1); //R2\n",
    "glPushMatrix(); // CM = CM2*R2, topStack = CM2*R2\n",
    "glTranslatef(1, 0, 0); //T2 = T1\n",
    "drawShape(); //shape 3 CM3 = CM2*R2*T1\n",
    "```"
   ]
  },
  {
   "cell_type": "code",
   "execution_count": 21,
   "metadata": {},
   "outputs": [],
   "source": [
    "R2 = np.array([[ 0, 1, 0],\n",
    "               [ -1, 0, 0],\n",
    "               [ 0, 0, 1]\n",
    "              ])\n",
    "\n",
    "\n",
    "CM3 = CM2.dot(R2).dot(T1)\n",
    "shape3  = CM3.dot(shape1)\n",
    "shapes.append(shape3.T)"
   ]
  },
  {
   "cell_type": "code",
   "execution_count": 22,
   "metadata": {},
   "outputs": [
    {
     "data": {
      "image/png": "[encoded data removed]",
      "text/plain": [
       "<Figure size 432x288 with 1 Axes>"
      ]
     },
     "metadata": {
      "needs_background": "light"
     },
     "output_type": "display_data"
    }
   ],
   "source": [
    "%matplotlib inline\n",
    "plotShapes(shapes)"
   ]
  },
  {
   "cell_type": "code",
   "execution_count": 23,
   "metadata": {},
   "outputs": [],
   "source": [
    "topStack = CM2.dot(R2)"
   ]
  },
  {
   "cell_type": "markdown",
   "metadata": {},
   "source": [
    "**Shape 4** \n",
    "```c++\n",
    "glScalef(1, 2, 1); // S1\n",
    "glTranslatef(1, -2, 0);  // T3 \n",
    "drawShape(); // shape 4, CM = CM3*S1*T3, topStack = CM2*R2\n",
    "```"
   ]
  },
  {
   "cell_type": "code",
   "execution_count": 24,
   "metadata": {},
   "outputs": [],
   "source": [
    "S1 = np.array([[ 1, 0, 0],\n",
    "               [ 0, 2, 0],\n",
    "               [ 0, 0, 1]\n",
    "              ])\n",
    "\n",
    "T3 = np.array([[ 1, 0, 1],\n",
    "               [ 0, 1, -2],\n",
    "               [ 0, 0, 1]\n",
    "              ])\n",
    "\n",
    "\n",
    "CM4 = CM3.dot(S1).dot(T3)\n",
    "shape4  = CM4.dot(shape1)\n",
    "shapes.append(shape4.T)"
   ]
  },
  {
   "cell_type": "code",
   "execution_count": 25,
   "metadata": {
    "scrolled": true
   },
   "outputs": [
    {
     "data": {
      "image/png": "[encoded data removed]",
      "text/plain": [
       "<Figure size 432x288 with 1 Axes>"
      ]
     },
     "metadata": {
      "needs_background": "light"
     },
     "output_type": "display_data"
    }
   ],
   "source": [
    "%matplotlib inline\n",
    "plotShapes(shapes)"
   ]
  },
  {
   "cell_type": "markdown",
   "metadata": {},
   "source": [
    "**Shape 5** \n",
    "```c++\n",
    "glTranslatef(-2, 2, 0); // T4\n",
    "glRotatef(90, 0, 0, 1); //R1 \n",
    "glTranslatef(-1, -1, 0); // T5\n",
    "glScalef(1, .5, 1); // S2\n",
    "glRotatef(90, 0, 0, 1); // R1 (CM = CM4*T4*R1*T5*S2*R1)\n",
    "glPopMatrix(); // CM = topStack (topStak = CM2*R2), topStack = I\n",
    "glTranslatef(-2, 1, 0);// T6\n",
    "drawShape(); // shape 5, CM5 = CM2*R2*T6, topStack = I\n",
    "glPopMatrix(); // CM = I, topStack = I\n",
    "```"
   ]
  },
  {
   "cell_type": "code",
   "execution_count": 26,
   "metadata": {},
   "outputs": [],
   "source": [
    "topStack = CM2.dot(R2)\n",
    "T6 = np.array([[ 1, 0, -2],\n",
    "               [ 0, 1, 1],\n",
    "               [ 0, 0, 1]\n",
    "              ])\n",
    "\n",
    "\n",
    "CM5 = topStack.dot(T6)\n",
    "shape5  = CM5.dot(shape1)\n",
    "shapes.append(shape5.T)"
   ]
  },
  {
   "cell_type": "code",
   "execution_count": 27,
   "metadata": {
    "scrolled": true
   },
   "outputs": [
    {
     "data": {
      "image/png": "[encoded data removed]",
      "text/plain": [
       "<Figure size 432x288 with 1 Axes>"
      ]
     },
     "metadata": {
      "needs_background": "light"
     },
     "output_type": "display_data"
    }
   ],
   "source": [
    "%matplotlib inline\n",
    "plotShapes(shapes)"
   ]
  },
  {
   "cell_type": "code",
   "execution_count": 28,
   "metadata": {},
   "outputs": [],
   "source": [
    "topStack = np.eye(3)\n",
    "CM = np.eye(3)"
   ]
  },
  {
   "cell_type": "code",
   "execution_count": 29,
   "metadata": {},
   "outputs": [
    {
     "name": "stdout",
     "output_type": "stream",
     "text": [
      "[[1. 0. 0.]\n",
      " [0. 1. 0.]\n",
      " [0. 0. 1.]]\n"
     ]
    }
   ],
   "source": [
    "print(topStack)"
   ]
  },
  {
   "cell_type": "code",
   "execution_count": 30,
   "metadata": {},
   "outputs": [
    {
     "name": "stdout",
     "output_type": "stream",
     "text": [
      "[[1. 0. 0.]\n",
      " [0. 1. 0.]\n",
      " [0. 0. 1.]]\n"
     ]
    }
   ],
   "source": [
    "print(CM)"
   ]
  },
  {
   "cell_type": "markdown",
   "metadata": {},
   "source": [
    "## Projection "
   ]
  },
  {
   "cell_type": "markdown",
   "metadata": {},
   "source": [
    "From 3D space to 2D plane"
   ]
  },
  {
   "cell_type": "markdown",
   "metadata": {},
   "source": [
    "### Parallel Projection (Orthogonal)"
   ]
  },
  {
   "cell_type": "markdown",
   "metadata": {},
   "source": [
    "* Preserves the parallelism\n",
    "\n",
    "```c++\n",
    "void glOrtho(GLdouble left,\n",
    "             GLdouble right,\n",
    "             GLdouble bottom,\n",
    "             GLdouble top,\n",
    "             GLdouble nearVal,\n",
    "             GLdouble farVal);\n",
    "```\n",
    "**Effect of changing near and far planes ??**"
   ]
  },
  {
   "cell_type": "markdown",
   "metadata": {},
   "source": [
    "<span style=\"color:red\">No effect</span>."
   ]
  },
  {
   "cell_type": "markdown",
   "metadata": {},
   "source": [
    "### Perspective Projection"
   ]
  },
  {
   "cell_type": "markdown",
   "metadata": {},
   "source": [
    "* Does not preserve parallelism \n",
    "* Nearer objects appears bigger"
   ]
  },
  {
   "cell_type": "markdown",
   "metadata": {},
   "source": [
    "* glFrustum\n",
    "\n",
    "```c++\n",
    "void glFrustum(\tGLdouble left,\n",
    " \tGLdouble right,\n",
    " \tGLdouble bottom,\n",
    " \tGLdouble top,\n",
    " \tGLdouble nearVal,\n",
    " \tGLdouble farVal);\n",
    "```\n",
    "**Effect of changing near and far planes ??**"
   ]
  },
  {
   "cell_type": "markdown",
   "metadata": {},
   "source": [
    "<span style=\"color:red\">\n",
    "Near $\\downarrow$ Object size $\\downarrow$\n",
    "\n",
    "Far : No effect\n",
    "</span>."
   ]
  },
  {
   "cell_type": "markdown",
   "metadata": {},
   "source": [
    "* gluPerspective\n",
    "```c++\n",
    "void gluPerspective(\tGLdouble fovy,\n",
    " \tGLdouble aspect,\n",
    " \tGLdouble zNear,\n",
    " \tGLdouble zFar);\n",
    "```\n",
    "**Effect of changing fovy, near, far ??**"
   ]
  },
  {
   "cell_type": "markdown",
   "metadata": {},
   "source": [
    "<span style=\"color:red\">\n",
    "Fovy $\\downarrow$ Object size $\\uparrow$\n",
    "\n",
    "Far, Near : No effect\n",
    "</span>."
   ]
  },
  {
   "cell_type": "markdown",
   "metadata": {},
   "source": [
    "## Pipeline"
   ]
  },
  {
   "cell_type": "markdown",
   "metadata": {},
   "source": [
    "The pipeline simply includes\n",
    "\n",
    "1. 3D Modeling (Primitives or vertices) Model **(World Coordinates)**\n",
    "\n",
    "2. Lightening and coloring calculations\n",
    "\n",
    "3. Transform to 3D camera coordinates View **(Camera Coordinates)**\n",
    "\n",
    "4. Clip to 2D Screen coordinates Projection **(Sceen Coordinate)**\n"
   ]
  },
  {
   "cell_type": "markdown",
   "metadata": {},
   "source": [
    "## Camera "
   ]
  },
  {
   "cell_type": "markdown",
   "metadata": {},
   "source": [
    "```c++\n",
    "void gluLookAt(GLdouble eyeX,\n",
    " \tGLdouble eyeY,\n",
    " \tGLdouble eyeZ,\n",
    " \tGLdouble centerX,\n",
    " \tGLdouble centerY,\n",
    " \tGLdouble centerZ,\n",
    " \tGLdouble upX,\n",
    " \tGLdouble upY,\n",
    " \tGLdouble upZ);\n",
    "```"
   ]
  },
  {
   "cell_type": "markdown",
   "metadata": {},
   "source": [
    "What do we care about in up vector ? (magnitude or direction)"
   ]
  },
  {
   "cell_type": "markdown",
   "metadata": {},
   "source": [
    "## Illumination and shapding"
   ]
  },
  {
   "cell_type": "markdown",
   "metadata": {},
   "source": [
    "###  Lighting"
   ]
  },
  {
   "cell_type": "markdown",
   "metadata": {},
   "source": [
    "* Ambient lighting : approximation of uniform light without light source.\n",
    "* Diffuse lighting : Reflected in all direction due to roughness of the surface.\n",
    "* Specular lighting: Reflection of the light in one direction (Smooth surface)."
   ]
  },
  {
   "cell_type": "markdown",
   "metadata": {},
   "source": [
    "### Light sources"
   ]
  },
  {
   "cell_type": "markdown",
   "metadata": {},
   "source": [
    "* Point (Positional) \n",
    "* Directional    **position ??**"
   ]
  },
  {
   "cell_type": "markdown",
   "metadata": {},
   "source": [
    "### Shading "
   ]
  },
  {
   "cell_type": "markdown",
   "metadata": {},
   "source": [
    "* Flat \n",
    "* Smooth"
   ]
  },
  {
   "cell_type": "markdown",
   "metadata": {},
   "source": [
    "## Important Concepts "
   ]
  },
  {
   "cell_type": "markdown",
   "metadata": {},
   "source": [
    "* Ray Casting and Ray tracing\n",
    "* Depth buffer\n",
    "* Double buffering \n",
    "* Texture mapping and MIP-maps\n",
    "* Color Theroy and color spaces"
   ]
  }
 ],
 "metadata": {
  "kernelspec": {
   "display_name": "Python 3",
   "language": "python",
   "name": "python3"
  },
  "language_info": {
   "codemirror_mode": {
    "name": "ipython",
    "version": 3
   },
   "file_extension": ".py",
   "mimetype": "text/x-python",
   "name": "python",
   "nbconvert_exporter": "python",
   "pygments_lexer": "ipython3",
   "version": "3.6.8"
  }
 },
 "nbformat": 4,
 "nbformat_minor": 2
}
